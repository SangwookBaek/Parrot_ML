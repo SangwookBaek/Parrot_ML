{
 "cells": [
  {
   "cell_type": "code",
   "execution_count": 1,
   "id": "1bdc98ef",
   "metadata": {},
   "outputs": [],
   "source": [
    "from sklearn.ensemble import RandomForestClassifier\n",
    "from sklearn.tree import DecisionTreeClassifier\n",
    "from sklearn.model_selection import GridSearchCV, train_test_split\n",
    "from sklearn.metrics import confusion_matrix, accuracy_score\n",
    "from sklearn import datasets\n",
    "import matplotlib.pyplot as plt\n"
   ]
  },
  {
   "cell_type": "code",
   "execution_count": 2,
   "id": "a68a9c76",
   "metadata": {},
   "outputs": [],
   "source": [
    "digit_data = datasets.load_digits()\n",
    "\n",
    "image_features = digit_data.images.reshape((len(digit_data.images), -1))\n",
    "image_targets = digit_data.target"
   ]
  },
  {
   "cell_type": "code",
   "execution_count": 3,
   "id": "7f29d51c",
   "metadata": {},
   "outputs": [
    {
     "data": {
      "image/png": "[encoded data removed]",
      "text/plain": [
       "<Figure size 432x288 with 6 Axes>"
      ]
     },
     "metadata": {
      "needs_background": "light"
     },
     "output_type": "display_data"
    }
   ],
   "source": [
    "images_and_label = list(zip(digit_data.images, digit_data.target))\n",
    "\n",
    "for index, (image, label) in enumerate(images_and_label[:6]):\n",
    "    plt.subplot(2, 3, index + 1)  # 2 row, 3 column, plot image and label\n",
    "    plt.imshow(image, cmap=plt.cm.gray_r, interpolation='nearest')  # gray scale image\n",
    "    plt.title('Target: %i' % label)\n",
    "plt.show()"
   ]
  },
  {
   "cell_type": "code",
   "execution_count": 4,
   "id": "144b10e9",
   "metadata": {},
   "outputs": [
    {
     "data": {
      "text/plain": [
       "(1797, 64)"
      ]
     },
     "execution_count": 4,
     "metadata": {},
     "output_type": "execute_result"
    }
   ],
   "source": [
    "image_features.shape"
   ]
  },
  {
   "cell_type": "code",
   "execution_count": 5,
   "id": "400f82f0",
   "metadata": {},
   "outputs": [],
   "source": [
    "random_forest_model = RandomForestClassifier(n_jobs=-1, max_features='auto')\n",
    "\n",
    "x_train, x_test, y_train, y_test = train_test_split(image_features, image_targets, test_size=0.2)\n"
   ]
  },
  {
   "cell_type": "code",
   "execution_count": 17,
   "id": "16bed73c",
   "metadata": {},
   "outputs": [
    {
     "data": {
      "text/plain": [
       "'\\n\\nparam_grid = {\\n    \"n_estimators\": [10, 100, 500, 1000],\\n    \"max_depth\": [1, 5, 10, 15],\\n    \"min_samples_leaf\": [1, 2, 4, 10, 15, 30, 50]\\n}\\n'"
      ]
     },
     "execution_count": 17,
     "metadata": {},
     "output_type": "execute_result"
    }
   ],
   "source": [
    "param_grid = {\n",
    "    \"n_estimators\": [50, 100, 200, 300, 400],\n",
    "    \"max_depth\": [8, 9, 10, 11, 12, 13],\n",
    "    \"min_samples_leaf\": [1, 2, 3, 5, 10]\n",
    "}\n",
    "\n",
    "'''\n",
    "\n",
    "param_grid = {\n",
    "    \"n_estimators\": [10, 100, 500, 1000],\n",
    "    \"max_depth\": [1, 5, 10, 15],\n",
    "    \"min_samples_leaf\": [1, 2, 4, 10, 15, 30, 50]\n",
    "}\n",
    "'''"
   ]
  },
  {
   "cell_type": "code",
   "execution_count": 18,
   "id": "43dbe393",
   "metadata": {},
   "outputs": [
    {
     "data": {
      "text/plain": [
       "GridSearchCV(cv=5, estimator=RandomForestClassifier(n_jobs=-1), n_jobs=-1,\n",
       "             param_grid={'max_depth': [8, 9, 10, 11, 12, 13],\n",
       "                         'min_samples_leaf': [1, 2, 3, 5, 10],\n",
       "                         'n_estimators': [50, 100, 200, 300, 400]})"
      ]
     },
     "execution_count": 18,
     "metadata": {},
     "output_type": "execute_result"
    }
   ],
   "source": [
    "grid_search = GridSearchCV(estimator=random_forest_model, param_grid=param_grid, n_jobs = -1, cv = 5)\n",
    "grid_search.fit(x_train, y_train)"
   ]
  },
  {
   "cell_type": "code",
   "execution_count": 19,
   "id": "81ae8250",
   "metadata": {},
   "outputs": [
    {
     "name": "stdout",
     "output_type": "stream",
     "text": [
      "{'max_depth': 12, 'min_samples_leaf': 1, 'n_estimators': 400}\n",
      "1 12 400\n"
     ]
    }
   ],
   "source": [
    "print(grid_search.best_params_)\n",
    "\n",
    "optimal_estimator = grid_search.best_params_.get(\"n_estimators\")\n",
    "optimal_depth = grid_search.best_params_.get(\"max_depth\")\n",
    "optimal_leaf = grid_search.best_params_.get(\"min_samples_leaf\")\n",
    "\n",
    "print(optimal_leaf, optimal_depth, optimal_estimator)"
   ]
  },
  {
   "cell_type": "code",
   "execution_count": 20,
   "id": "bb4fcba6",
   "metadata": {
    "scrolled": false
   },
   "outputs": [
    {
     "name": "stdout",
     "output_type": "stream",
     "text": [
      "[[137   0   0   0   0   0   0   0   0   0]\n",
      " [  0 150   0   0   0   0   0   0   0   0]\n",
      " [  0   0 142   0   0   0   0   0   0   0]\n",
      " [  0   0   0 148   0   0   0   0   0   0]\n",
      " [  0   0   0   0 149   0   0   0   0   0]\n",
      " [  0   0   0   0   0 134   0   0   0   0]\n",
      " [  0   0   0   0   0   0 148   0   0   0]\n",
      " [  0   0   0   0   0   0   0 151   0   0]\n",
      " [  0   0   0   0   0   0   0   0 136   0]\n",
      " [  0   0   0   0   0   0   0   0   0 142]]\n",
      "1.0\n",
      "0.9805555555555555\n"
     ]
    }
   ],
   "source": [
    "train_grid_prediction = grid_search.predict(x_train)\n",
    "test_grid_prediction = grid_search.predict(x_test)\n",
    "\n",
    "print(confusion_matrix(y_train, train_grid_prediction))\n",
    "print(accuracy_score(y_train, train_grid_prediction))\n",
    "print(accuracy_score(y_test, test_grid_prediction))"
   ]
  },
  {
   "cell_type": "code",
   "execution_count": 21,
   "id": "ae55bc47",
   "metadata": {},
   "outputs": [
    {
     "data": {
      "text/plain": [
       "GridSearchCV(cv=5, estimator=DecisionTreeClassifier(max_features='auto'),\n",
       "             n_jobs=-1,\n",
       "             param_grid={'max_depth': [5, 6, 7, 8, 9, 10, 11, 12, 13, 14],\n",
       "                         'min_samples_leaf': [1, 2, 3, 5, 10]})"
      ]
     },
     "execution_count": 21,
     "metadata": {},
     "output_type": "execute_result"
    }
   ],
   "source": [
    "param_grid = {\n",
    "    \"max_depth\": [i for i in range(5, 15)],\n",
    "    \"min_samples_leaf\": [1, 2, 3, 5, 10]\n",
    "}\n",
    "\n",
    "decision_tree = DecisionTreeClassifier(max_features='auto')\n",
    "\n",
    "grid_search = GridSearchCV(estimator=decision_tree, param_grid=param_grid, n_jobs = -1, cv = 5)\n",
    "grid_search.fit(x_train, y_train)"
   ]
  },
  {
   "cell_type": "code",
   "execution_count": 22,
   "id": "66eb7cdc",
   "metadata": {},
   "outputs": [
    {
     "name": "stdout",
     "output_type": "stream",
     "text": [
      "{'max_depth': 12, 'min_samples_leaf': 1}\n",
      "1 12\n"
     ]
    }
   ],
   "source": [
    "print(grid_search.best_params_)\n",
    "\n",
    "optimal_depth = grid_search.best_params_.get(\"max_depth\")\n",
    "optimal_leaf = grid_search.best_params_.get(\"min_samples_leaf\")\n",
    "\n",
    "print(optimal_leaf, optimal_depth)"
   ]
  },
  {
   "cell_type": "code",
   "execution_count": 23,
   "id": "c2370cb3",
   "metadata": {},
   "outputs": [
    {
     "name": "stdout",
     "output_type": "stream",
     "text": [
      "[[137   0   0   0   0   0   0   0   0   0]\n",
      " [  0 150   0   0   0   0   0   0   0   0]\n",
      " [  0   0 141   0   0   0   1   0   0   0]\n",
      " [  0   0   0 147   0   0   0   0   0   1]\n",
      " [  0   0   0   0 149   0   0   0   0   0]\n",
      " [  0   0   0   0   0 133   0   0   0   1]\n",
      " [  0   0   0   0   0   0 148   0   0   0]\n",
      " [  0   0   0   0   0   0   0 151   0   0]\n",
      " [  0   0   0   0   0   1   0   0 135   0]\n",
      " [  0   0   0   0   0   0   0   1   1 140]]\n",
      "0.9958246346555324\n",
      "0.8166666666666667\n"
     ]
    }
   ],
   "source": [
    "train_dt_pred = grid_search.predict(x_train)\n",
    "test_dt_pred = grid_search.predict(x_test)\n",
    "\n",
    "print(confusion_matrix(y_train, train_dt_pred))\n",
    "print(accuracy_score(y_train, train_dt_pred))\n",
    "print(accuracy_score(y_test, test_dt_pred))"
   ]
  },
  {
   "cell_type": "code",
   "execution_count": null,
   "id": "9c967ed7",
   "metadata": {},
   "outputs": [],
   "source": []
  },
  {
   "cell_type": "code",
   "execution_count": null,
   "id": "37f6d4bc",
   "metadata": {},
   "outputs": [],
   "source": []
  }
 ],
 "metadata": {
  "kernelspec": {
   "display_name": "Python 3 (ipykernel)",
   "language": "python",
   "name": "python3"
  },
  "language_info": {
   "codemirror_mode": {
    "name": "ipython",
    "version": 3
   },
   "file_extension": ".py",
   "mimetype": "text/x-python",
   "name": "python",
   "nbconvert_exporter": "python",
   "pygments_lexer": "ipython3",
   "version": "3.9.7"
  },
  "toc": {
   "base_numbering": 1,
   "nav_menu": {},
   "number_sections": true,
   "sideBar": true,
   "skip_h1_title": false,
   "title_cell": "Table of Contents",
   "title_sidebar": "Contents",
   "toc_cell": false,
   "toc_position": {},
   "toc_section_display": true,
   "toc_window_display": false
  },
  "varInspector": {
   "cols": {
    "lenName": 16,
    "lenType": 16,
    "lenVar": 40
   },
   "kernels_config": {
    "python": {
     "delete_cmd_postfix": "",
     "delete_cmd_prefix": "del ",
     "library": "var_list.py",
     "varRefreshCmd": "print(var_dic_list())"
    },
    "r": {
     "delete_cmd_postfix": ") ",
     "delete_cmd_prefix": "rm(",
     "library": "var_list.r",
     "varRefreshCmd": "cat(var_dic_list()) "
    }
   },
   "types_to_exclude": [
    "module",
    "function",
    "builtin_function_or_method",
    "instance",
    "_Feature"
   ],
   "window_display": false
  }
 },
 "nbformat": 4,
 "nbformat_minor": 5
}
